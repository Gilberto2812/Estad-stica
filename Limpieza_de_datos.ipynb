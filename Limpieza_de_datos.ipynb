{
  "nbformat": 4,
  "nbformat_minor": 0,
  "metadata": {
    "colab": {
      "name": "Untitled3.ipynb",
      "provenance": [],
      "authorship_tag": "ABX9TyMTaGdBFkwpegv01UTMSwVH",
      "include_colab_link": true
    },
    "kernelspec": {
      "name": "ir",
      "display_name": "R"
    },
    "language_info": {
      "name": "R"
    }
  },
  "cells": [
    {
      "cell_type": "markdown",
      "metadata": {
        "id": "view-in-github",
        "colab_type": "text"
      },
      "source": [
        "<a href=\"https://colab.research.google.com/github/Gilberto2812/Estad-stica/blob/main/Limpieza_de_datos.ipynb\" target=\"_parent\"><img src=\"https://colab.research.google.com/assets/colab-badge.svg\" alt=\"Open In Colab\"/></a>"
      ]
    },
    {
      "cell_type": "code",
      "metadata": {
        "id": "fYA-32-0ZKCa"
      },
      "source": [
        "df<-read.csv(\"https://data.ny.gov/api/views/w34r-gwfk/rows.csv?accessType=DOWNLOAD&sorting=true\")"
      ],
      "execution_count": 6,
      "outputs": []
    },
    {
      "cell_type": "code",
      "metadata": {
        "colab": {
          "base_uri": "https://localhost:8080/"
        },
        "id": "I7rCwREfhlaO",
        "outputId": "979b0fd7-6100-4924-9122-36b203bc722f"
      },
      "source": [
        "str(df)"
      ],
      "execution_count": 10,
      "outputs": [
        {
          "output_type": "stream",
          "name": "stdout",
          "text": [
            "'data.frame':\t2180 obs. of  3 variables:\n",
            " $ Period.Ending : chr  \"07/31/2003\" \"07/31/2003\" \"07/31/2003\" \"07/31/2003\" ...\n",
            " $ Region        : chr  \"Capital\" \"Central New York\" \"Finger Lakes\" \"Hudson Valley\" ...\n",
            " $ Initial.Claims: int  4326 4366 7095 8454 13575 3210 45703 2529 3335 11484 ...\n"
          ]
        }
      ]
    },
    {
      "cell_type": "code",
      "metadata": {
        "id": "7U-d-5VkZWxk"
      },
      "source": [
        "fecha<-as.Date(df$Period.Ending,format = \"%m/%d/%Y\")"
      ],
      "execution_count": 8,
      "outputs": []
    },
    {
      "cell_type": "code",
      "metadata": {
        "id": "AqClUT-dZ-Tb"
      },
      "source": [
        "mon<-gsub(\",\",\"\",df$Initial.Claims)\n",
        "monto<-as.numeric(mon)"
      ],
      "execution_count": 11,
      "outputs": []
    },
    {
      "cell_type": "code",
      "metadata": {
        "colab": {
          "base_uri": "https://localhost:8080/",
          "height": 285
        },
        "id": "xOuGPI-gZf2e",
        "outputId": "ac9e1314-2f94-4033-fb90-114292c82fd8"
      },
      "source": [
        "ndf<-data.frame(Fecha=fecha,Monto=monto)\n",
        "head(ndf)"
      ],
      "execution_count": 12,
      "outputs": [
        {
          "output_type": "display_data",
          "data": {
            "text/plain": [
              "  Fecha      Monto\n",
              "1 2003-07-31  4326\n",
              "2 2003-07-31  4366\n",
              "3 2003-07-31  7095\n",
              "4 2003-07-31  8454\n",
              "5 2003-07-31 13575\n",
              "6 2003-07-31  3210"
            ],
            "text/latex": "A data.frame: 6 × 2\n\\begin{tabular}{r|ll}\n  & Fecha & Monto\\\\\n  & <date> & <dbl>\\\\\n\\hline\n\t1 & 2003-07-31 &  4326\\\\\n\t2 & 2003-07-31 &  4366\\\\\n\t3 & 2003-07-31 &  7095\\\\\n\t4 & 2003-07-31 &  8454\\\\\n\t5 & 2003-07-31 & 13575\\\\\n\t6 & 2003-07-31 &  3210\\\\\n\\end{tabular}\n",
            "text/markdown": "\nA data.frame: 6 × 2\n\n| <!--/--> | Fecha &lt;date&gt; | Monto &lt;dbl&gt; |\n|---|---|---|\n| 1 | 2003-07-31 |  4326 |\n| 2 | 2003-07-31 |  4366 |\n| 3 | 2003-07-31 |  7095 |\n| 4 | 2003-07-31 |  8454 |\n| 5 | 2003-07-31 | 13575 |\n| 6 | 2003-07-31 |  3210 |\n\n",
            "text/html": [
              "<table class=\"dataframe\">\n",
              "<caption>A data.frame: 6 × 2</caption>\n",
              "<thead>\n",
              "\t<tr><th></th><th scope=col>Fecha</th><th scope=col>Monto</th></tr>\n",
              "\t<tr><th></th><th scope=col>&lt;date&gt;</th><th scope=col>&lt;dbl&gt;</th></tr>\n",
              "</thead>\n",
              "<tbody>\n",
              "\t<tr><th scope=row>1</th><td>2003-07-31</td><td> 4326</td></tr>\n",
              "\t<tr><th scope=row>2</th><td>2003-07-31</td><td> 4366</td></tr>\n",
              "\t<tr><th scope=row>3</th><td>2003-07-31</td><td> 7095</td></tr>\n",
              "\t<tr><th scope=row>4</th><td>2003-07-31</td><td> 8454</td></tr>\n",
              "\t<tr><th scope=row>5</th><td>2003-07-31</td><td>13575</td></tr>\n",
              "\t<tr><th scope=row>6</th><td>2003-07-31</td><td> 3210</td></tr>\n",
              "</tbody>\n",
              "</table>\n"
            ]
          },
          "metadata": {}
        }
      ]
    },
    {
      "cell_type": "code",
      "metadata": {
        "colab": {
          "base_uri": "https://localhost:8080/"
        },
        "id": "4lw0x_yPcRWS",
        "outputId": "5638ce3e-5d75-43c4-ab91-b1efc5f9f5ae"
      },
      "source": [
        "nd<-na.omit(ndf)\n",
        "str(nd)"
      ],
      "execution_count": 13,
      "outputs": [
        {
          "output_type": "stream",
          "name": "stdout",
          "text": [
            "'data.frame':\t2180 obs. of  2 variables:\n",
            " $ Fecha: Date, format: \"2003-07-31\" \"2003-07-31\" ...\n",
            " $ Monto: num  4326 4366 7095 8454 13575 ...\n"
          ]
        }
      ]
    },
    {
      "cell_type": "code",
      "metadata": {
        "colab": {
          "base_uri": "https://localhost:8080/",
          "height": 285
        },
        "id": "0EvZvBnFcfru",
        "outputId": "e513000d-d3c9-41bc-e9aa-d88b32ac4ae5"
      },
      "source": [
        "nd$Fecha1 <- paste(\"01-\",format(as.Date(nd$Fecha), \"%m-%Y\"),sep=\"\")\n",
        "head(nd)\n"
      ],
      "execution_count": 37,
      "outputs": [
        {
          "output_type": "display_data",
          "data": {
            "text/plain": [
              "  Fecha      Monto Fecha1    \n",
              "1 2003-07-31  4326 01-07-2003\n",
              "2 2003-07-31  4366 01-07-2003\n",
              "3 2003-07-31  7095 01-07-2003\n",
              "4 2003-07-31  8454 01-07-2003\n",
              "5 2003-07-31 13575 01-07-2003\n",
              "6 2003-07-31  3210 01-07-2003"
            ],
            "text/latex": "A data.frame: 6 × 3\n\\begin{tabular}{r|lll}\n  & Fecha & Monto & Fecha1\\\\\n  & <date> & <dbl> & <chr>\\\\\n\\hline\n\t1 & 2003-07-31 &  4326 & 01-07-2003\\\\\n\t2 & 2003-07-31 &  4366 & 01-07-2003\\\\\n\t3 & 2003-07-31 &  7095 & 01-07-2003\\\\\n\t4 & 2003-07-31 &  8454 & 01-07-2003\\\\\n\t5 & 2003-07-31 & 13575 & 01-07-2003\\\\\n\t6 & 2003-07-31 &  3210 & 01-07-2003\\\\\n\\end{tabular}\n",
            "text/markdown": "\nA data.frame: 6 × 3\n\n| <!--/--> | Fecha &lt;date&gt; | Monto &lt;dbl&gt; | Fecha1 &lt;chr&gt; |\n|---|---|---|---|\n| 1 | 2003-07-31 |  4326 | 01-07-2003 |\n| 2 | 2003-07-31 |  4366 | 01-07-2003 |\n| 3 | 2003-07-31 |  7095 | 01-07-2003 |\n| 4 | 2003-07-31 |  8454 | 01-07-2003 |\n| 5 | 2003-07-31 | 13575 | 01-07-2003 |\n| 6 | 2003-07-31 |  3210 | 01-07-2003 |\n\n",
            "text/html": [
              "<table class=\"dataframe\">\n",
              "<caption>A data.frame: 6 × 3</caption>\n",
              "<thead>\n",
              "\t<tr><th></th><th scope=col>Fecha</th><th scope=col>Monto</th><th scope=col>Fecha1</th></tr>\n",
              "\t<tr><th></th><th scope=col>&lt;date&gt;</th><th scope=col>&lt;dbl&gt;</th><th scope=col>&lt;chr&gt;</th></tr>\n",
              "</thead>\n",
              "<tbody>\n",
              "\t<tr><th scope=row>1</th><td>2003-07-31</td><td> 4326</td><td>01-07-2003</td></tr>\n",
              "\t<tr><th scope=row>2</th><td>2003-07-31</td><td> 4366</td><td>01-07-2003</td></tr>\n",
              "\t<tr><th scope=row>3</th><td>2003-07-31</td><td> 7095</td><td>01-07-2003</td></tr>\n",
              "\t<tr><th scope=row>4</th><td>2003-07-31</td><td> 8454</td><td>01-07-2003</td></tr>\n",
              "\t<tr><th scope=row>5</th><td>2003-07-31</td><td>13575</td><td>01-07-2003</td></tr>\n",
              "\t<tr><th scope=row>6</th><td>2003-07-31</td><td> 3210</td><td>01-07-2003</td></tr>\n",
              "</tbody>\n",
              "</table>\n"
            ]
          },
          "metadata": {}
        }
      ]
    },
    {
      "cell_type": "code",
      "metadata": {
        "id": "VcWhulEofMp0"
      },
      "source": [
        "nd$Fecha1<-as.Date(nd$Fecha1,format=\"%d-%m-%Y\")"
      ],
      "execution_count": 38,
      "outputs": []
    },
    {
      "cell_type": "code",
      "metadata": {
        "colab": {
          "base_uri": "https://localhost:8080/",
          "height": 285
        },
        "id": "WNLDC28QfVCF",
        "outputId": "909e3811-7751-4cf0-ffa9-7f42612cddaa"
      },
      "source": [
        "head(nd)"
      ],
      "execution_count": 39,
      "outputs": [
        {
          "output_type": "display_data",
          "data": {
            "text/plain": [
              "  Fecha      Monto Fecha1    \n",
              "1 2003-07-31  4326 2003-07-01\n",
              "2 2003-07-31  4366 2003-07-01\n",
              "3 2003-07-31  7095 2003-07-01\n",
              "4 2003-07-31  8454 2003-07-01\n",
              "5 2003-07-31 13575 2003-07-01\n",
              "6 2003-07-31  3210 2003-07-01"
            ],
            "text/latex": "A data.frame: 6 × 3\n\\begin{tabular}{r|lll}\n  & Fecha & Monto & Fecha1\\\\\n  & <date> & <dbl> & <date>\\\\\n\\hline\n\t1 & 2003-07-31 &  4326 & 2003-07-01\\\\\n\t2 & 2003-07-31 &  4366 & 2003-07-01\\\\\n\t3 & 2003-07-31 &  7095 & 2003-07-01\\\\\n\t4 & 2003-07-31 &  8454 & 2003-07-01\\\\\n\t5 & 2003-07-31 & 13575 & 2003-07-01\\\\\n\t6 & 2003-07-31 &  3210 & 2003-07-01\\\\\n\\end{tabular}\n",
            "text/markdown": "\nA data.frame: 6 × 3\n\n| <!--/--> | Fecha &lt;date&gt; | Monto &lt;dbl&gt; | Fecha1 &lt;date&gt; |\n|---|---|---|---|\n| 1 | 2003-07-31 |  4326 | 2003-07-01 |\n| 2 | 2003-07-31 |  4366 | 2003-07-01 |\n| 3 | 2003-07-31 |  7095 | 2003-07-01 |\n| 4 | 2003-07-31 |  8454 | 2003-07-01 |\n| 5 | 2003-07-31 | 13575 | 2003-07-01 |\n| 6 | 2003-07-31 |  3210 | 2003-07-01 |\n\n",
            "text/html": [
              "<table class=\"dataframe\">\n",
              "<caption>A data.frame: 6 × 3</caption>\n",
              "<thead>\n",
              "\t<tr><th></th><th scope=col>Fecha</th><th scope=col>Monto</th><th scope=col>Fecha1</th></tr>\n",
              "\t<tr><th></th><th scope=col>&lt;date&gt;</th><th scope=col>&lt;dbl&gt;</th><th scope=col>&lt;date&gt;</th></tr>\n",
              "</thead>\n",
              "<tbody>\n",
              "\t<tr><th scope=row>1</th><td>2003-07-31</td><td> 4326</td><td>2003-07-01</td></tr>\n",
              "\t<tr><th scope=row>2</th><td>2003-07-31</td><td> 4366</td><td>2003-07-01</td></tr>\n",
              "\t<tr><th scope=row>3</th><td>2003-07-31</td><td> 7095</td><td>2003-07-01</td></tr>\n",
              "\t<tr><th scope=row>4</th><td>2003-07-31</td><td> 8454</td><td>2003-07-01</td></tr>\n",
              "\t<tr><th scope=row>5</th><td>2003-07-31</td><td>13575</td><td>2003-07-01</td></tr>\n",
              "\t<tr><th scope=row>6</th><td>2003-07-31</td><td> 3210</td><td>2003-07-01</td></tr>\n",
              "</tbody>\n",
              "</table>\n"
            ]
          },
          "metadata": {}
        }
      ]
    },
    {
      "cell_type": "code",
      "metadata": {
        "colab": {
          "base_uri": "https://localhost:8080/",
          "height": 285
        },
        "id": "TACAMHGJfZ1u",
        "outputId": "d52fc57b-db3d-4e84-8194-644afb6705ad"
      },
      "source": [
        "fdf<-data.frame(Fecha=as.Date(nd$Fecha1,format=\"%d-%m-%Y\"),Monto=nd$Monto)\n",
        "head(fdf)"
      ],
      "execution_count": 40,
      "outputs": [
        {
          "output_type": "display_data",
          "data": {
            "text/plain": [
              "  Fecha      Monto\n",
              "1 2003-07-01  4326\n",
              "2 2003-07-01  4366\n",
              "3 2003-07-01  7095\n",
              "4 2003-07-01  8454\n",
              "5 2003-07-01 13575\n",
              "6 2003-07-01  3210"
            ],
            "text/latex": "A data.frame: 6 × 2\n\\begin{tabular}{r|ll}\n  & Fecha & Monto\\\\\n  & <date> & <dbl>\\\\\n\\hline\n\t1 & 2003-07-01 &  4326\\\\\n\t2 & 2003-07-01 &  4366\\\\\n\t3 & 2003-07-01 &  7095\\\\\n\t4 & 2003-07-01 &  8454\\\\\n\t5 & 2003-07-01 & 13575\\\\\n\t6 & 2003-07-01 &  3210\\\\\n\\end{tabular}\n",
            "text/markdown": "\nA data.frame: 6 × 2\n\n| <!--/--> | Fecha &lt;date&gt; | Monto &lt;dbl&gt; |\n|---|---|---|\n| 1 | 2003-07-01 |  4326 |\n| 2 | 2003-07-01 |  4366 |\n| 3 | 2003-07-01 |  7095 |\n| 4 | 2003-07-01 |  8454 |\n| 5 | 2003-07-01 | 13575 |\n| 6 | 2003-07-01 |  3210 |\n\n",
            "text/html": [
              "<table class=\"dataframe\">\n",
              "<caption>A data.frame: 6 × 2</caption>\n",
              "<thead>\n",
              "\t<tr><th></th><th scope=col>Fecha</th><th scope=col>Monto</th></tr>\n",
              "\t<tr><th></th><th scope=col>&lt;date&gt;</th><th scope=col>&lt;dbl&gt;</th></tr>\n",
              "</thead>\n",
              "<tbody>\n",
              "\t<tr><th scope=row>1</th><td>2003-07-01</td><td> 4326</td></tr>\n",
              "\t<tr><th scope=row>2</th><td>2003-07-01</td><td> 4366</td></tr>\n",
              "\t<tr><th scope=row>3</th><td>2003-07-01</td><td> 7095</td></tr>\n",
              "\t<tr><th scope=row>4</th><td>2003-07-01</td><td> 8454</td></tr>\n",
              "\t<tr><th scope=row>5</th><td>2003-07-01</td><td>13575</td></tr>\n",
              "\t<tr><th scope=row>6</th><td>2003-07-01</td><td> 3210</td></tr>\n",
              "</tbody>\n",
              "</table>\n"
            ]
          },
          "metadata": {}
        }
      ]
    },
    {
      "cell_type": "code",
      "metadata": {
        "id": "z7Uv1KTYZ1ts"
      },
      "source": [
        "library(dplyr)\n",
        "gdf<-fdf %>% group_by(Fecha) %>% summarise(Monto_mensual = sum(Monto))\n",
        "gdf<-gdf[order(gdf$Fecha),]"
      ],
      "execution_count": 41,
      "outputs": []
    },
    {
      "cell_type": "code",
      "metadata": {
        "colab": {
          "base_uri": "https://localhost:8080/",
          "height": 1000
        },
        "id": "fabogAeph7Ej",
        "outputId": "e228472f-1f33-46da-cfe3-3addd00f4f4c"
      },
      "source": [
        "gdf"
      ],
      "execution_count": 42,
      "outputs": [
        {
          "output_type": "display_data",
          "data": {
            "text/plain": [
              "    Fecha      Monto_mensual\n",
              "1   2003-07-01 104077       \n",
              "2   2003-08-01  79020       \n",
              "3   2003-09-01  83405       \n",
              "4   2003-10-01  79162       \n",
              "5   2003-11-01  91740       \n",
              "6   2003-12-01 125729       \n",
              "7   2004-01-01 115483       \n",
              "8   2004-02-01  93513       \n",
              "9   2004-03-01  78853       \n",
              "10  2004-04-01  93964       \n",
              "11  2004-05-01  70053       \n",
              "12  2004-06-01  81215       \n",
              "13  2004-07-01  93699       \n",
              "14  2004-08-01  78228       \n",
              "15  2004-09-01  68238       \n",
              "16  2004-10-01  75268       \n",
              "17  2004-11-01  93040       \n",
              "18  2004-12-01 100136       \n",
              "19  2005-01-01 128595       \n",
              "20  2005-02-01  81110       \n",
              "21  2005-03-01  78626       \n",
              "22  2005-04-01  72421       \n",
              "23  2005-05-01  84816       \n",
              "24  2005-06-01  73815       \n",
              "25  2005-07-01  88522       \n",
              "26  2005-08-01  73863       \n",
              "27  2005-09-01  62512       \n",
              "28  2005-10-01  81035       \n",
              "29  2005-11-01  86301       \n",
              "30  2005-12-01  90627       \n",
              "⋮   ⋮          ⋮            \n",
              "189 2019-03-01   53056      \n",
              "190 2019-04-01   71384      \n",
              "191 2019-05-01   52634      \n",
              "192 2019-06-01   59227      \n",
              "193 2019-07-01   69263      \n",
              "194 2019-08-01   55513      \n",
              "195 2019-09-01   47918      \n",
              "196 2019-10-01   55578      \n",
              "197 2019-11-01   62608      \n",
              "198 2019-12-01  109153      \n",
              "199 2020-01-01   75483      \n",
              "200 2020-02-01   71728      \n",
              "201 2020-03-01  662546      \n",
              "202 2020-04-01 1136925      \n",
              "203 2020-05-01  554862      \n",
              "204 2020-06-01  304180      \n",
              "205 2020-07-01  285143      \n",
              "206 2020-08-01  182912      \n",
              "207 2020-09-01  199033      \n",
              "208 2020-10-01  175712      \n",
              "209 2020-11-01  170416      \n",
              "210 2020-12-01  193882      \n",
              "211 2021-01-01  255898      \n",
              "212 2021-02-01  190934      \n",
              "213 2021-03-01  236812      \n",
              "214 2021-04-01  323497      \n",
              "215 2021-05-01  105053      \n",
              "216 2021-06-01   91284      \n",
              "217 2021-07-01   91869      \n",
              "218 2021-08-01   65228      "
            ],
            "text/latex": "A tibble: 218 × 2\n\\begin{tabular}{ll}\n Fecha & Monto\\_mensual\\\\\n <date> & <dbl>\\\\\n\\hline\n\t 2003-07-01 & 104077\\\\\n\t 2003-08-01 &  79020\\\\\n\t 2003-09-01 &  83405\\\\\n\t 2003-10-01 &  79162\\\\\n\t 2003-11-01 &  91740\\\\\n\t 2003-12-01 & 125729\\\\\n\t 2004-01-01 & 115483\\\\\n\t 2004-02-01 &  93513\\\\\n\t 2004-03-01 &  78853\\\\\n\t 2004-04-01 &  93964\\\\\n\t 2004-05-01 &  70053\\\\\n\t 2004-06-01 &  81215\\\\\n\t 2004-07-01 &  93699\\\\\n\t 2004-08-01 &  78228\\\\\n\t 2004-09-01 &  68238\\\\\n\t 2004-10-01 &  75268\\\\\n\t 2004-11-01 &  93040\\\\\n\t 2004-12-01 & 100136\\\\\n\t 2005-01-01 & 128595\\\\\n\t 2005-02-01 &  81110\\\\\n\t 2005-03-01 &  78626\\\\\n\t 2005-04-01 &  72421\\\\\n\t 2005-05-01 &  84816\\\\\n\t 2005-06-01 &  73815\\\\\n\t 2005-07-01 &  88522\\\\\n\t 2005-08-01 &  73863\\\\\n\t 2005-09-01 &  62512\\\\\n\t 2005-10-01 &  81035\\\\\n\t 2005-11-01 &  86301\\\\\n\t 2005-12-01 &  90627\\\\\n\t ⋮ & ⋮\\\\\n\t 2019-03-01 &   53056\\\\\n\t 2019-04-01 &   71384\\\\\n\t 2019-05-01 &   52634\\\\\n\t 2019-06-01 &   59227\\\\\n\t 2019-07-01 &   69263\\\\\n\t 2019-08-01 &   55513\\\\\n\t 2019-09-01 &   47918\\\\\n\t 2019-10-01 &   55578\\\\\n\t 2019-11-01 &   62608\\\\\n\t 2019-12-01 &  109153\\\\\n\t 2020-01-01 &   75483\\\\\n\t 2020-02-01 &   71728\\\\\n\t 2020-03-01 &  662546\\\\\n\t 2020-04-01 & 1136925\\\\\n\t 2020-05-01 &  554862\\\\\n\t 2020-06-01 &  304180\\\\\n\t 2020-07-01 &  285143\\\\\n\t 2020-08-01 &  182912\\\\\n\t 2020-09-01 &  199033\\\\\n\t 2020-10-01 &  175712\\\\\n\t 2020-11-01 &  170416\\\\\n\t 2020-12-01 &  193882\\\\\n\t 2021-01-01 &  255898\\\\\n\t 2021-02-01 &  190934\\\\\n\t 2021-03-01 &  236812\\\\\n\t 2021-04-01 &  323497\\\\\n\t 2021-05-01 &  105053\\\\\n\t 2021-06-01 &   91284\\\\\n\t 2021-07-01 &   91869\\\\\n\t 2021-08-01 &   65228\\\\\n\\end{tabular}\n",
            "text/markdown": "\nA tibble: 218 × 2\n\n| Fecha &lt;date&gt; | Monto_mensual &lt;dbl&gt; |\n|---|---|\n| 2003-07-01 | 104077 |\n| 2003-08-01 |  79020 |\n| 2003-09-01 |  83405 |\n| 2003-10-01 |  79162 |\n| 2003-11-01 |  91740 |\n| 2003-12-01 | 125729 |\n| 2004-01-01 | 115483 |\n| 2004-02-01 |  93513 |\n| 2004-03-01 |  78853 |\n| 2004-04-01 |  93964 |\n| 2004-05-01 |  70053 |\n| 2004-06-01 |  81215 |\n| 2004-07-01 |  93699 |\n| 2004-08-01 |  78228 |\n| 2004-09-01 |  68238 |\n| 2004-10-01 |  75268 |\n| 2004-11-01 |  93040 |\n| 2004-12-01 | 100136 |\n| 2005-01-01 | 128595 |\n| 2005-02-01 |  81110 |\n| 2005-03-01 |  78626 |\n| 2005-04-01 |  72421 |\n| 2005-05-01 |  84816 |\n| 2005-06-01 |  73815 |\n| 2005-07-01 |  88522 |\n| 2005-08-01 |  73863 |\n| 2005-09-01 |  62512 |\n| 2005-10-01 |  81035 |\n| 2005-11-01 |  86301 |\n| 2005-12-01 |  90627 |\n| ⋮ | ⋮ |\n| 2019-03-01 |   53056 |\n| 2019-04-01 |   71384 |\n| 2019-05-01 |   52634 |\n| 2019-06-01 |   59227 |\n| 2019-07-01 |   69263 |\n| 2019-08-01 |   55513 |\n| 2019-09-01 |   47918 |\n| 2019-10-01 |   55578 |\n| 2019-11-01 |   62608 |\n| 2019-12-01 |  109153 |\n| 2020-01-01 |   75483 |\n| 2020-02-01 |   71728 |\n| 2020-03-01 |  662546 |\n| 2020-04-01 | 1136925 |\n| 2020-05-01 |  554862 |\n| 2020-06-01 |  304180 |\n| 2020-07-01 |  285143 |\n| 2020-08-01 |  182912 |\n| 2020-09-01 |  199033 |\n| 2020-10-01 |  175712 |\n| 2020-11-01 |  170416 |\n| 2020-12-01 |  193882 |\n| 2021-01-01 |  255898 |\n| 2021-02-01 |  190934 |\n| 2021-03-01 |  236812 |\n| 2021-04-01 |  323497 |\n| 2021-05-01 |  105053 |\n| 2021-06-01 |   91284 |\n| 2021-07-01 |   91869 |\n| 2021-08-01 |   65228 |\n\n",
            "text/html": [
              "<table class=\"dataframe\">\n",
              "<caption>A tibble: 218 × 2</caption>\n",
              "<thead>\n",
              "\t<tr><th scope=col>Fecha</th><th scope=col>Monto_mensual</th></tr>\n",
              "\t<tr><th scope=col>&lt;date&gt;</th><th scope=col>&lt;dbl&gt;</th></tr>\n",
              "</thead>\n",
              "<tbody>\n",
              "\t<tr><td>2003-07-01</td><td>104077</td></tr>\n",
              "\t<tr><td>2003-08-01</td><td> 79020</td></tr>\n",
              "\t<tr><td>2003-09-01</td><td> 83405</td></tr>\n",
              "\t<tr><td>2003-10-01</td><td> 79162</td></tr>\n",
              "\t<tr><td>2003-11-01</td><td> 91740</td></tr>\n",
              "\t<tr><td>2003-12-01</td><td>125729</td></tr>\n",
              "\t<tr><td>2004-01-01</td><td>115483</td></tr>\n",
              "\t<tr><td>2004-02-01</td><td> 93513</td></tr>\n",
              "\t<tr><td>2004-03-01</td><td> 78853</td></tr>\n",
              "\t<tr><td>2004-04-01</td><td> 93964</td></tr>\n",
              "\t<tr><td>2004-05-01</td><td> 70053</td></tr>\n",
              "\t<tr><td>2004-06-01</td><td> 81215</td></tr>\n",
              "\t<tr><td>2004-07-01</td><td> 93699</td></tr>\n",
              "\t<tr><td>2004-08-01</td><td> 78228</td></tr>\n",
              "\t<tr><td>2004-09-01</td><td> 68238</td></tr>\n",
              "\t<tr><td>2004-10-01</td><td> 75268</td></tr>\n",
              "\t<tr><td>2004-11-01</td><td> 93040</td></tr>\n",
              "\t<tr><td>2004-12-01</td><td>100136</td></tr>\n",
              "\t<tr><td>2005-01-01</td><td>128595</td></tr>\n",
              "\t<tr><td>2005-02-01</td><td> 81110</td></tr>\n",
              "\t<tr><td>2005-03-01</td><td> 78626</td></tr>\n",
              "\t<tr><td>2005-04-01</td><td> 72421</td></tr>\n",
              "\t<tr><td>2005-05-01</td><td> 84816</td></tr>\n",
              "\t<tr><td>2005-06-01</td><td> 73815</td></tr>\n",
              "\t<tr><td>2005-07-01</td><td> 88522</td></tr>\n",
              "\t<tr><td>2005-08-01</td><td> 73863</td></tr>\n",
              "\t<tr><td>2005-09-01</td><td> 62512</td></tr>\n",
              "\t<tr><td>2005-10-01</td><td> 81035</td></tr>\n",
              "\t<tr><td>2005-11-01</td><td> 86301</td></tr>\n",
              "\t<tr><td>2005-12-01</td><td> 90627</td></tr>\n",
              "\t<tr><td>⋮</td><td>⋮</td></tr>\n",
              "\t<tr><td>2019-03-01</td><td>  53056</td></tr>\n",
              "\t<tr><td>2019-04-01</td><td>  71384</td></tr>\n",
              "\t<tr><td>2019-05-01</td><td>  52634</td></tr>\n",
              "\t<tr><td>2019-06-01</td><td>  59227</td></tr>\n",
              "\t<tr><td>2019-07-01</td><td>  69263</td></tr>\n",
              "\t<tr><td>2019-08-01</td><td>  55513</td></tr>\n",
              "\t<tr><td>2019-09-01</td><td>  47918</td></tr>\n",
              "\t<tr><td>2019-10-01</td><td>  55578</td></tr>\n",
              "\t<tr><td>2019-11-01</td><td>  62608</td></tr>\n",
              "\t<tr><td>2019-12-01</td><td> 109153</td></tr>\n",
              "\t<tr><td>2020-01-01</td><td>  75483</td></tr>\n",
              "\t<tr><td>2020-02-01</td><td>  71728</td></tr>\n",
              "\t<tr><td>2020-03-01</td><td> 662546</td></tr>\n",
              "\t<tr><td>2020-04-01</td><td>1136925</td></tr>\n",
              "\t<tr><td>2020-05-01</td><td> 554862</td></tr>\n",
              "\t<tr><td>2020-06-01</td><td> 304180</td></tr>\n",
              "\t<tr><td>2020-07-01</td><td> 285143</td></tr>\n",
              "\t<tr><td>2020-08-01</td><td> 182912</td></tr>\n",
              "\t<tr><td>2020-09-01</td><td> 199033</td></tr>\n",
              "\t<tr><td>2020-10-01</td><td> 175712</td></tr>\n",
              "\t<tr><td>2020-11-01</td><td> 170416</td></tr>\n",
              "\t<tr><td>2020-12-01</td><td> 193882</td></tr>\n",
              "\t<tr><td>2021-01-01</td><td> 255898</td></tr>\n",
              "\t<tr><td>2021-02-01</td><td> 190934</td></tr>\n",
              "\t<tr><td>2021-03-01</td><td> 236812</td></tr>\n",
              "\t<tr><td>2021-04-01</td><td> 323497</td></tr>\n",
              "\t<tr><td>2021-05-01</td><td> 105053</td></tr>\n",
              "\t<tr><td>2021-06-01</td><td>  91284</td></tr>\n",
              "\t<tr><td>2021-07-01</td><td>  91869</td></tr>\n",
              "\t<tr><td>2021-08-01</td><td>  65228</td></tr>\n",
              "</tbody>\n",
              "</table>\n"
            ]
          },
          "metadata": {}
        }
      ]
    },
    {
      "cell_type": "code",
      "metadata": {
        "id": "_MOkzSDaiZ2_",
        "colab": {
          "base_uri": "https://localhost:8080/",
          "height": 35
        },
        "outputId": "87d1980d-77f5-4dbb-e05e-b428dc54be1c"
      },
      "source": [
        "dim(gdf)"
      ],
      "execution_count": 43,
      "outputs": [
        {
          "output_type": "display_data",
          "data": {
            "text/plain": [
              "[1] 218   2"
            ],
            "text/latex": "\\begin{enumerate*}\n\\item 218\n\\item 2\n\\end{enumerate*}\n",
            "text/markdown": "1. 218\n2. 2\n\n\n",
            "text/html": [
              "<style>\n",
              ".list-inline {list-style: none; margin:0; padding: 0}\n",
              ".list-inline>li {display: inline-block}\n",
              ".list-inline>li:not(:last-child)::after {content: \"\\00b7\"; padding: 0 .5ex}\n",
              "</style>\n",
              "<ol class=list-inline><li>218</li><li>2</li></ol>\n"
            ]
          },
          "metadata": {}
        }
      ]
    },
    {
      "cell_type": "code",
      "metadata": {
        "id": "BpA5xRdZkKrv"
      },
      "source": [
        "write.csv(gdf,\"datos.csv\")"
      ],
      "execution_count": 44,
      "outputs": []
    }
  ]
}